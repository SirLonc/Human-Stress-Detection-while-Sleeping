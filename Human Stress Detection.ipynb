{
 "cells": [
  {
   "cell_type": "code",
   "execution_count": 1,
   "id": "53a819a8",
   "metadata": {},
   "outputs": [],
   "source": [
    "import pandas as pd\n",
    "import numpy as np\n",
    "import matplotlib.pyplot as plot\n",
    "import seaborn as sb"
   ]
  },
  {
   "cell_type": "code",
   "execution_count": 2,
   "id": "e3b8490e",
   "metadata": {},
   "outputs": [],
   "source": [
    "data = pd.read_csv('sleep_params.csv')"
   ]
  },
  {
   "cell_type": "code",
   "execution_count": 3,
   "id": "87872092",
   "metadata": {},
   "outputs": [
    {
     "data": {
      "text/html": [
       "<div>\n",
       "<style scoped>\n",
       "    .dataframe tbody tr th:only-of-type {\n",
       "        vertical-align: middle;\n",
       "    }\n",
       "\n",
       "    .dataframe tbody tr th {\n",
       "        vertical-align: top;\n",
       "    }\n",
       "\n",
       "    .dataframe thead th {\n",
       "        text-align: right;\n",
       "    }\n",
       "</style>\n",
       "<table border=\"1\" class=\"dataframe\">\n",
       "  <thead>\n",
       "    <tr style=\"text-align: right;\">\n",
       "      <th></th>\n",
       "      <th>sr</th>\n",
       "      <th>rr</th>\n",
       "      <th>t</th>\n",
       "      <th>lm</th>\n",
       "      <th>bo</th>\n",
       "      <th>rem</th>\n",
       "      <th>sr.1</th>\n",
       "      <th>hr</th>\n",
       "      <th>sl</th>\n",
       "    </tr>\n",
       "  </thead>\n",
       "  <tbody>\n",
       "    <tr>\n",
       "      <th>0</th>\n",
       "      <td>93.80</td>\n",
       "      <td>25.680</td>\n",
       "      <td>91.840</td>\n",
       "      <td>16.600</td>\n",
       "      <td>89.840</td>\n",
       "      <td>99.60</td>\n",
       "      <td>1.840</td>\n",
       "      <td>74.20</td>\n",
       "      <td>3</td>\n",
       "    </tr>\n",
       "    <tr>\n",
       "      <th>1</th>\n",
       "      <td>91.64</td>\n",
       "      <td>25.104</td>\n",
       "      <td>91.552</td>\n",
       "      <td>15.880</td>\n",
       "      <td>89.552</td>\n",
       "      <td>98.88</td>\n",
       "      <td>1.552</td>\n",
       "      <td>72.76</td>\n",
       "      <td>3</td>\n",
       "    </tr>\n",
       "    <tr>\n",
       "      <th>2</th>\n",
       "      <td>60.00</td>\n",
       "      <td>20.000</td>\n",
       "      <td>96.000</td>\n",
       "      <td>10.000</td>\n",
       "      <td>95.000</td>\n",
       "      <td>85.00</td>\n",
       "      <td>7.000</td>\n",
       "      <td>60.00</td>\n",
       "      <td>1</td>\n",
       "    </tr>\n",
       "    <tr>\n",
       "      <th>3</th>\n",
       "      <td>85.76</td>\n",
       "      <td>23.536</td>\n",
       "      <td>90.768</td>\n",
       "      <td>13.920</td>\n",
       "      <td>88.768</td>\n",
       "      <td>96.92</td>\n",
       "      <td>0.768</td>\n",
       "      <td>68.84</td>\n",
       "      <td>3</td>\n",
       "    </tr>\n",
       "    <tr>\n",
       "      <th>4</th>\n",
       "      <td>48.12</td>\n",
       "      <td>17.248</td>\n",
       "      <td>97.872</td>\n",
       "      <td>6.496</td>\n",
       "      <td>96.248</td>\n",
       "      <td>72.48</td>\n",
       "      <td>8.248</td>\n",
       "      <td>53.12</td>\n",
       "      <td>0</td>\n",
       "    </tr>\n",
       "  </tbody>\n",
       "</table>\n",
       "</div>"
      ],
      "text/plain": [
       "      sr      rr       t      lm      bo    rem   sr.1     hr  sl\n",
       "0  93.80  25.680  91.840  16.600  89.840  99.60  1.840  74.20   3\n",
       "1  91.64  25.104  91.552  15.880  89.552  98.88  1.552  72.76   3\n",
       "2  60.00  20.000  96.000  10.000  95.000  85.00  7.000  60.00   1\n",
       "3  85.76  23.536  90.768  13.920  88.768  96.92  0.768  68.84   3\n",
       "4  48.12  17.248  97.872   6.496  96.248  72.48  8.248  53.12   0"
      ]
     },
     "execution_count": 3,
     "metadata": {},
     "output_type": "execute_result"
    }
   ],
   "source": [
    "data.head()"
   ]
  },
  {
   "cell_type": "code",
   "execution_count": 4,
   "id": "6a36ff4e",
   "metadata": {},
   "outputs": [
    {
     "data": {
      "text/plain": [
       "(630, 9)"
      ]
     },
     "execution_count": 4,
     "metadata": {},
     "output_type": "execute_result"
    }
   ],
   "source": [
    "data.shape"
   ]
  },
  {
   "cell_type": "markdown",
   "id": "d2440c3a",
   "metadata": {},
   "source": [
    "Rename columns"
   ]
  },
  {
   "cell_type": "code",
   "execution_count": 5,
   "id": "1e1d26dd",
   "metadata": {},
   "outputs": [
    {
     "data": {
      "text/html": [
       "<div>\n",
       "<style scoped>\n",
       "    .dataframe tbody tr th:only-of-type {\n",
       "        vertical-align: middle;\n",
       "    }\n",
       "\n",
       "    .dataframe tbody tr th {\n",
       "        vertical-align: top;\n",
       "    }\n",
       "\n",
       "    .dataframe thead th {\n",
       "        text-align: right;\n",
       "    }\n",
       "</style>\n",
       "<table border=\"1\" class=\"dataframe\">\n",
       "  <thead>\n",
       "    <tr style=\"text-align: right;\">\n",
       "      <th></th>\n",
       "      <th>snoring_rate</th>\n",
       "      <th>respiration_rate</th>\n",
       "      <th>body_temperature</th>\n",
       "      <th>limb_movement</th>\n",
       "      <th>blood_oxygen</th>\n",
       "      <th>eye_movement</th>\n",
       "      <th>sleeping_hours</th>\n",
       "      <th>heart_rate</th>\n",
       "      <th>stress_level</th>\n",
       "    </tr>\n",
       "  </thead>\n",
       "  <tbody>\n",
       "    <tr>\n",
       "      <th>0</th>\n",
       "      <td>93.80</td>\n",
       "      <td>25.680</td>\n",
       "      <td>91.840</td>\n",
       "      <td>16.600</td>\n",
       "      <td>89.840</td>\n",
       "      <td>99.60</td>\n",
       "      <td>1.840</td>\n",
       "      <td>74.20</td>\n",
       "      <td>3</td>\n",
       "    </tr>\n",
       "    <tr>\n",
       "      <th>1</th>\n",
       "      <td>91.64</td>\n",
       "      <td>25.104</td>\n",
       "      <td>91.552</td>\n",
       "      <td>15.880</td>\n",
       "      <td>89.552</td>\n",
       "      <td>98.88</td>\n",
       "      <td>1.552</td>\n",
       "      <td>72.76</td>\n",
       "      <td>3</td>\n",
       "    </tr>\n",
       "    <tr>\n",
       "      <th>2</th>\n",
       "      <td>60.00</td>\n",
       "      <td>20.000</td>\n",
       "      <td>96.000</td>\n",
       "      <td>10.000</td>\n",
       "      <td>95.000</td>\n",
       "      <td>85.00</td>\n",
       "      <td>7.000</td>\n",
       "      <td>60.00</td>\n",
       "      <td>1</td>\n",
       "    </tr>\n",
       "    <tr>\n",
       "      <th>3</th>\n",
       "      <td>85.76</td>\n",
       "      <td>23.536</td>\n",
       "      <td>90.768</td>\n",
       "      <td>13.920</td>\n",
       "      <td>88.768</td>\n",
       "      <td>96.92</td>\n",
       "      <td>0.768</td>\n",
       "      <td>68.84</td>\n",
       "      <td>3</td>\n",
       "    </tr>\n",
       "    <tr>\n",
       "      <th>4</th>\n",
       "      <td>48.12</td>\n",
       "      <td>17.248</td>\n",
       "      <td>97.872</td>\n",
       "      <td>6.496</td>\n",
       "      <td>96.248</td>\n",
       "      <td>72.48</td>\n",
       "      <td>8.248</td>\n",
       "      <td>53.12</td>\n",
       "      <td>0</td>\n",
       "    </tr>\n",
       "  </tbody>\n",
       "</table>\n",
       "</div>"
      ],
      "text/plain": [
       "   snoring_rate  respiration_rate  body_temperature  limb_movement  \\\n",
       "0         93.80            25.680            91.840         16.600   \n",
       "1         91.64            25.104            91.552         15.880   \n",
       "2         60.00            20.000            96.000         10.000   \n",
       "3         85.76            23.536            90.768         13.920   \n",
       "4         48.12            17.248            97.872          6.496   \n",
       "\n",
       "   blood_oxygen  eye_movement  sleeping_hours  heart_rate  stress_level  \n",
       "0        89.840         99.60           1.840       74.20             3  \n",
       "1        89.552         98.88           1.552       72.76             3  \n",
       "2        95.000         85.00           7.000       60.00             1  \n",
       "3        88.768         96.92           0.768       68.84             3  \n",
       "4        96.248         72.48           8.248       53.12             0  "
      ]
     },
     "execution_count": 5,
     "metadata": {},
     "output_type": "execute_result"
    }
   ],
   "source": [
    "data.columns=['snoring_rate', 'respiration_rate', 'body_temperature', 'limb_movement', 'blood_oxygen', \\\n",
    "             'eye_movement', 'sleeping_hours', 'heart_rate', 'stress_level']\n",
    "data.head()"
   ]
  },
  {
   "cell_type": "markdown",
   "id": "7bf9ac9c",
   "metadata": {},
   "source": [
    "Check for null var"
   ]
  },
  {
   "cell_type": "code",
   "execution_count": 6,
   "id": "cf6e0d4b",
   "metadata": {},
   "outputs": [
    {
     "data": {
      "text/plain": [
       "snoring_rate        False\n",
       "respiration_rate    False\n",
       "body_temperature    False\n",
       "limb_movement       False\n",
       "blood_oxygen        False\n",
       "eye_movement        False\n",
       "sleeping_hours      False\n",
       "heart_rate          False\n",
       "stress_level        False\n",
       "dtype: bool"
      ]
     },
     "execution_count": 6,
     "metadata": {},
     "output_type": "execute_result"
    }
   ],
   "source": [
    "data.isnull().any()"
   ]
  },
  {
   "cell_type": "markdown",
   "id": "09a10a3a",
   "metadata": {},
   "source": [
    "Data split"
   ]
  },
  {
   "cell_type": "code",
   "execution_count": 7,
   "id": "832b5e2c",
   "metadata": {},
   "outputs": [],
   "source": [
    "from sklearn.model_selection import train_test_split"
   ]
  },
  {
   "cell_type": "code",
   "execution_count": 8,
   "id": "8894ff3e",
   "metadata": {},
   "outputs": [
    {
     "data": {
      "text/plain": [
       "((441, 8), (189, 8))"
      ]
     },
     "execution_count": 8,
     "metadata": {},
     "output_type": "execute_result"
    }
   ],
   "source": [
    "X_train, X_test, y_train, y_test=train_test_split(data.drop(['stress_level'],axis = 1), data['stress_level'], \\\n",
    "                                                  test_size=0.3, random_state=8)\n",
    "X_train.shape, X_test.shape"
   ]
  },
  {
   "cell_type": "markdown",
   "id": "af4b2afc",
   "metadata": {},
   "source": [
    "Converting labels to binary matrices"
   ]
  },
  {
   "cell_type": "code",
   "execution_count": 9,
   "id": "19a0aa1f",
   "metadata": {},
   "outputs": [],
   "source": [
    "from tensorflow.keras.utils import to_categorical"
   ]
  },
  {
   "cell_type": "code",
   "execution_count": 10,
   "id": "c54ea865",
   "metadata": {},
   "outputs": [
    {
     "data": {
      "text/plain": [
       "array([[0., 0., 0., 0., 1.],\n",
       "       [0., 1., 0., 0., 0.],\n",
       "       [0., 0., 0., 1., 0.],\n",
       "       [0., 1., 0., 0., 0.],\n",
       "       [0., 1., 0., 0., 0.]], dtype=float32)"
      ]
     },
     "execution_count": 10,
     "metadata": {},
     "output_type": "execute_result"
    }
   ],
   "source": [
    "num_classes=5\n",
    "y_train=to_categorical(y_train, num_classes)\n",
    "y_test=to_categorical(y_test, num_classes)\n",
    "y_train[:5]"
   ]
  },
  {
   "cell_type": "markdown",
   "id": "bcb1cc9d",
   "metadata": {},
   "source": [
    "Perceptron model with ReLU activation"
   ]
  },
  {
   "cell_type": "code",
   "execution_count": 11,
   "id": "8a17a1e8",
   "metadata": {},
   "outputs": [],
   "source": [
    "from tensorflow.keras.models import Sequential\n",
    "from tensorflow.keras.layers import Dense, Dropout"
   ]
  },
  {
   "cell_type": "code",
   "execution_count": 12,
   "id": "b5766f30",
   "metadata": {},
   "outputs": [],
   "source": [
    "model=Sequential()\n",
    "model.add(Dense(100, activation=\"relu\"))\n",
    "model.add(Dense(100, activation=\"relu\"))\n",
    "model.add(Dense(5, \"softmax\"))"
   ]
  },
  {
   "cell_type": "code",
   "execution_count": 13,
   "id": "f27d1813",
   "metadata": {},
   "outputs": [
    {
     "name": "stdout",
     "output_type": "stream",
     "text": [
      "Epoch 1/50\n",
      "11/11 [==============================] - 1s 23ms/step - loss: 12.2959 - accuracy: 0.2358 - val_loss: 7.2007 - val_accuracy: 0.2584\n",
      "Epoch 2/50\n",
      "11/11 [==============================] - 0s 4ms/step - loss: 3.9256 - accuracy: 0.4119 - val_loss: 1.1026 - val_accuracy: 0.4719\n",
      "Epoch 3/50\n",
      "11/11 [==============================] - 0s 4ms/step - loss: 1.2710 - accuracy: 0.4375 - val_loss: 1.1984 - val_accuracy: 0.4382\n",
      "Epoch 4/50\n",
      "11/11 [==============================] - 0s 4ms/step - loss: 0.7798 - accuracy: 0.6392 - val_loss: 0.6580 - val_accuracy: 0.7079\n",
      "Epoch 5/50\n",
      "11/11 [==============================] - 0s 4ms/step - loss: 0.5538 - accuracy: 0.8409 - val_loss: 0.4757 - val_accuracy: 0.8989\n",
      "Epoch 6/50\n",
      "11/11 [==============================] - 0s 4ms/step - loss: 0.4282 - accuracy: 0.9062 - val_loss: 0.4182 - val_accuracy: 0.9438\n",
      "Epoch 7/50\n",
      "11/11 [==============================] - 0s 4ms/step - loss: 0.3740 - accuracy: 0.9432 - val_loss: 0.3424 - val_accuracy: 0.9326\n",
      "Epoch 8/50\n",
      "11/11 [==============================] - 0s 4ms/step - loss: 0.3375 - accuracy: 0.9858 - val_loss: 0.3477 - val_accuracy: 0.9663\n",
      "Epoch 9/50\n",
      "11/11 [==============================] - 0s 4ms/step - loss: 0.3093 - accuracy: 0.9659 - val_loss: 0.4050 - val_accuracy: 0.8764\n",
      "Epoch 10/50\n",
      "11/11 [==============================] - 0s 4ms/step - loss: 0.2999 - accuracy: 0.9744 - val_loss: 0.4240 - val_accuracy: 0.8989\n",
      "Epoch 11/50\n",
      "11/11 [==============================] - 0s 4ms/step - loss: 0.3714 - accuracy: 0.8665 - val_loss: 0.3952 - val_accuracy: 0.8202\n",
      "Epoch 12/50\n",
      "11/11 [==============================] - 0s 5ms/step - loss: 0.3121 - accuracy: 0.9062 - val_loss: 0.2569 - val_accuracy: 0.9551\n",
      "Epoch 13/50\n",
      "11/11 [==============================] - 0s 4ms/step - loss: 0.2422 - accuracy: 0.9773 - val_loss: 0.2226 - val_accuracy: 1.0000\n",
      "Epoch 14/50\n",
      "11/11 [==============================] - 0s 4ms/step - loss: 0.2046 - accuracy: 0.9915 - val_loss: 0.2232 - val_accuracy: 0.9775\n",
      "Epoch 15/50\n",
      "11/11 [==============================] - 0s 4ms/step - loss: 0.2062 - accuracy: 0.9858 - val_loss: 0.1996 - val_accuracy: 1.0000\n",
      "Epoch 16/50\n",
      "11/11 [==============================] - 0s 5ms/step - loss: 0.2039 - accuracy: 0.9972 - val_loss: 0.2084 - val_accuracy: 1.0000\n",
      "Epoch 17/50\n",
      "11/11 [==============================] - 0s 4ms/step - loss: 0.1789 - accuracy: 0.9915 - val_loss: 0.2105 - val_accuracy: 1.0000\n",
      "Epoch 18/50\n",
      "11/11 [==============================] - 0s 4ms/step - loss: 0.1778 - accuracy: 0.9886 - val_loss: 0.1685 - val_accuracy: 1.0000\n",
      "Epoch 19/50\n",
      "11/11 [==============================] - 0s 4ms/step - loss: 0.1743 - accuracy: 0.9858 - val_loss: 0.1981 - val_accuracy: 1.0000\n",
      "Epoch 20/50\n",
      "11/11 [==============================] - 0s 4ms/step - loss: 0.1633 - accuracy: 0.9886 - val_loss: 0.1538 - val_accuracy: 1.0000\n",
      "Epoch 21/50\n",
      "11/11 [==============================] - 0s 4ms/step - loss: 0.1498 - accuracy: 0.9972 - val_loss: 0.1577 - val_accuracy: 1.0000\n",
      "Epoch 22/50\n",
      "11/11 [==============================] - 0s 4ms/step - loss: 0.1326 - accuracy: 0.9972 - val_loss: 0.1605 - val_accuracy: 1.0000\n",
      "Epoch 23/50\n",
      "11/11 [==============================] - 0s 5ms/step - loss: 0.1258 - accuracy: 0.9972 - val_loss: 0.1292 - val_accuracy: 1.0000\n",
      "Epoch 24/50\n",
      "11/11 [==============================] - 0s 4ms/step - loss: 0.1171 - accuracy: 1.0000 - val_loss: 0.1188 - val_accuracy: 1.0000\n",
      "Epoch 25/50\n",
      "11/11 [==============================] - 0s 4ms/step - loss: 0.1096 - accuracy: 0.9972 - val_loss: 0.1183 - val_accuracy: 1.0000\n",
      "Epoch 26/50\n",
      "11/11 [==============================] - 0s 4ms/step - loss: 0.1077 - accuracy: 1.0000 - val_loss: 0.1233 - val_accuracy: 0.9888\n",
      "Epoch 27/50\n",
      "11/11 [==============================] - 0s 4ms/step - loss: 0.0996 - accuracy: 1.0000 - val_loss: 0.1060 - val_accuracy: 1.0000\n",
      "Epoch 28/50\n",
      "11/11 [==============================] - 0s 4ms/step - loss: 0.0950 - accuracy: 1.0000 - val_loss: 0.0998 - val_accuracy: 1.0000\n",
      "Epoch 29/50\n",
      "11/11 [==============================] - 0s 4ms/step - loss: 0.0895 - accuracy: 1.0000 - val_loss: 0.0977 - val_accuracy: 1.0000\n",
      "Epoch 30/50\n",
      "11/11 [==============================] - 0s 4ms/step - loss: 0.0855 - accuracy: 1.0000 - val_loss: 0.1033 - val_accuracy: 1.0000\n",
      "Epoch 31/50\n",
      "11/11 [==============================] - 0s 4ms/step - loss: 0.0840 - accuracy: 1.0000 - val_loss: 0.0899 - val_accuracy: 1.0000\n",
      "Epoch 32/50\n",
      "11/11 [==============================] - 0s 4ms/step - loss: 0.0751 - accuracy: 1.0000 - val_loss: 0.0841 - val_accuracy: 1.0000\n",
      "Epoch 33/50\n",
      "11/11 [==============================] - 0s 4ms/step - loss: 0.0781 - accuracy: 1.0000 - val_loss: 0.0825 - val_accuracy: 1.0000\n",
      "Epoch 34/50\n",
      "11/11 [==============================] - 0s 4ms/step - loss: 0.0801 - accuracy: 1.0000 - val_loss: 0.0769 - val_accuracy: 1.0000\n",
      "Epoch 35/50\n",
      "11/11 [==============================] - 0s 4ms/step - loss: 0.0709 - accuracy: 1.0000 - val_loss: 0.0856 - val_accuracy: 1.0000\n",
      "Epoch 36/50\n",
      "11/11 [==============================] - 0s 4ms/step - loss: 0.0615 - accuracy: 1.0000 - val_loss: 0.0696 - val_accuracy: 1.0000\n",
      "Epoch 37/50\n",
      "11/11 [==============================] - 0s 4ms/step - loss: 0.0591 - accuracy: 1.0000 - val_loss: 0.0633 - val_accuracy: 1.0000\n",
      "Epoch 38/50\n",
      "11/11 [==============================] - 0s 4ms/step - loss: 0.0573 - accuracy: 1.0000 - val_loss: 0.0660 - val_accuracy: 1.0000\n",
      "Epoch 39/50\n",
      "11/11 [==============================] - 0s 4ms/step - loss: 0.0571 - accuracy: 1.0000 - val_loss: 0.0589 - val_accuracy: 1.0000\n",
      "Epoch 40/50\n",
      "11/11 [==============================] - 0s 4ms/step - loss: 0.0521 - accuracy: 1.0000 - val_loss: 0.0565 - val_accuracy: 1.0000\n",
      "Epoch 41/50\n",
      "11/11 [==============================] - 0s 4ms/step - loss: 0.0499 - accuracy: 1.0000 - val_loss: 0.0543 - val_accuracy: 1.0000\n",
      "Epoch 42/50\n",
      "11/11 [==============================] - 0s 4ms/step - loss: 0.0489 - accuracy: 1.0000 - val_loss: 0.0524 - val_accuracy: 1.0000\n",
      "Epoch 43/50\n",
      "11/11 [==============================] - 0s 4ms/step - loss: 0.0441 - accuracy: 1.0000 - val_loss: 0.0499 - val_accuracy: 1.0000\n",
      "Epoch 44/50\n",
      "11/11 [==============================] - 0s 4ms/step - loss: 0.0431 - accuracy: 1.0000 - val_loss: 0.0482 - val_accuracy: 1.0000\n",
      "Epoch 45/50\n",
      "11/11 [==============================] - 0s 4ms/step - loss: 0.0416 - accuracy: 1.0000 - val_loss: 0.0471 - val_accuracy: 1.0000\n",
      "Epoch 46/50\n",
      "11/11 [==============================] - 0s 4ms/step - loss: 0.0398 - accuracy: 1.0000 - val_loss: 0.0441 - val_accuracy: 1.0000\n",
      "Epoch 47/50\n",
      "11/11 [==============================] - 0s 4ms/step - loss: 0.0405 - accuracy: 1.0000 - val_loss: 0.0452 - val_accuracy: 1.0000\n",
      "Epoch 48/50\n",
      "11/11 [==============================] - 0s 4ms/step - loss: 0.0374 - accuracy: 1.0000 - val_loss: 0.0446 - val_accuracy: 1.0000\n",
      "Epoch 49/50\n",
      "11/11 [==============================] - 0s 4ms/step - loss: 0.0354 - accuracy: 1.0000 - val_loss: 0.0394 - val_accuracy: 1.0000\n",
      "Epoch 50/50\n",
      "11/11 [==============================] - 0s 4ms/step - loss: 0.0350 - accuracy: 1.0000 - val_loss: 0.0428 - val_accuracy: 1.0000\n"
     ]
    }
   ],
   "source": [
    "epochs=50\n",
    "model.compile(loss='categorical_crossentropy', optimizer='adam', metrics=['accuracy'])\n",
    "stats=model.fit(X_train, y_train, epochs=epochs, validation_split=0.2)"
   ]
  },
  {
   "cell_type": "markdown",
   "id": "fa1abfe8",
   "metadata": {},
   "source": [
    "Visualizing Training Results"
   ]
  },
  {
   "cell_type": "code",
   "execution_count": 14,
   "id": "dbcd3073",
   "metadata": {},
   "outputs": [
    {
     "data": {
      "image/png": "[encoded data removed]",
      "text/plain": [
       "<Figure size 720x576 with 1 Axes>"
      ]
     },
     "metadata": {
      "needs_background": "light"
     },
     "output_type": "display_data"
    }
   ],
   "source": [
    "stats_df=pd.DataFrame(stats.history)\n",
    "stats_df['epoch']=list(range(epochs))\n",
    "plot.figure(figsize=(10, 8))\n",
    "sb.lineplot(y='loss', x='epoch', data=stats_df, color='blue', linewidth=2, label=\"Training loss\")\n",
    "sb.lineplot(y='val_loss', x='epoch', data=stats_df, color='red', linewidth=2, label=\"Validation loss\")\n",
    "plot.grid()\n",
    "plot.legend()\n",
    "plot.title(\"Training and validation loss\")\n",
    "plot.xticks(range(0, 51, 5));"
   ]
  },
  {
   "cell_type": "markdown",
   "id": "e711c5cb",
   "metadata": {},
   "source": [
    "Training and validation loss curve converged around the 25th epoch, this model has the best fit on this dataset."
   ]
  },
  {
   "cell_type": "code",
   "execution_count": 15,
   "id": "92b02e5a",
   "metadata": {},
   "outputs": [
    {
     "data": {
      "image/png": "[encoded data removed]",
      "text/plain": [
       "<Figure size 720x576 with 1 Axes>"
      ]
     },
     "metadata": {
      "needs_background": "light"
     },
     "output_type": "display_data"
    }
   ],
   "source": [
    "stats_df=pd.DataFrame(stats.history)\n",
    "stats_df['epoch']=list(range(epochs))\n",
    "plot.figure(figsize=(10, 8))\n",
    "sb.lineplot(y='accuracy', x='epoch', data=stats_df, color='red', linewidth=2, label=\"Training accuracy\")\n",
    "sb.lineplot(y='val_accuracy', x='epoch', data=stats_df, color='blue', linewidth=2, \\\n",
    "            label=\"Validation accuracy\")\n",
    "plot.grid()\n",
    "plot.legend()\n",
    "plot.title(\"Training and validation accuracy\")\n",
    "plot.xticks(range(0, 51, 10));"
   ]
  },
  {
   "cell_type": "markdown",
   "id": "debf3303",
   "metadata": {},
   "source": [
    "Testing on Test set"
   ]
  },
  {
   "cell_type": "code",
   "execution_count": 16,
   "id": "b8a615e4",
   "metadata": {
    "scrolled": true
   },
   "outputs": [
    {
     "name": "stdout",
     "output_type": "stream",
     "text": [
      "6/6 [==============================] - 0s 2ms/step - loss: 0.0355 - accuracy: 1.0000\n"
     ]
    }
   ],
   "source": [
    "accuracy=model.evaluate(X_test,y_test)"
   ]
  },
  {
   "cell_type": "markdown",
   "id": "58dca8b4",
   "metadata": {},
   "source": [
    "The model has an accuracy of 100% on the test set"
   ]
  },
  {
   "cell_type": "code",
   "execution_count": null,
   "id": "fc72e63b",
   "metadata": {},
   "outputs": [],
   "source": []
  },
  {
   "cell_type": "code",
   "execution_count": null,
   "id": "f38634f5",
   "metadata": {},
   "outputs": [],
   "source": []
  },
  {
   "cell_type": "code",
   "execution_count": null,
   "id": "76a69d0f",
   "metadata": {},
   "outputs": [],
   "source": []
  }
 ],
 "metadata": {
  "kernelspec": {
   "display_name": "Python 3 (ipykernel)",
   "language": "python",
   "name": "python3"
  },
  "language_info": {
   "codemirror_mode": {
    "name": "ipython",
    "version": 3
   },
   "file_extension": ".py",
   "mimetype": "text/x-python",
   "name": "python",
   "nbconvert_exporter": "python",
   "pygments_lexer": "ipython3",
   "version": "3.9.5"
  }
 },
 "nbformat": 4,
 "nbformat_minor": 5
}
